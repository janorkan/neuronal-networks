{
 "cells": [
  {
   "cell_type": "markdown",
   "id": "1bd06635-70a3-4074-a56a-eb6f4d1df740",
   "metadata": {},
   "source": [
    "# NN3 for MNIST\n",
    "Using a self written 3-layer neural network class on the MNIST data. The NN3Classifier can be found in \"neuronal_network.py\"."
   ]
  },
  {
   "cell_type": "code",
   "execution_count": 2,
   "id": "3657a4ef-185b-4885-8f9c-248d976383f3",
   "metadata": {},
   "outputs": [],
   "source": [
    "import pandas as pd\n",
    "import numpy as np\n",
    "import matplotlib.pyplot as plt\n",
    "import neuronal_network # use self written neuronal_network.py functions\n",
    "from sklearn.model_selection import train_test_split\n",
    "from sklearn.preprocessing import MinMaxScaler\n",
    "from scipy import special\n",
    "import os"
   ]
  },
  {
   "cell_type": "markdown",
   "id": "4e08b3e4-76db-428b-9cc2-5219957f5b5f",
   "metadata": {},
   "source": [
    "### Data Preparation"
   ]
  },
  {
   "cell_type": "code",
   "execution_count": 3,
   "id": "feb47fa6-7e9b-4dae-a884-cac1aeee4a75",
   "metadata": {},
   "outputs": [],
   "source": [
    "# Import data\n",
    "df = pd.read_csv(\"mnist_data.csv\")\n",
    "\n",
    "# Split data in features and labels\n",
    "X = df.drop(\"7\", axis=1)\n",
    "y = pd.DataFrame(df[\"7\"])\n",
    "\n",
    "# Scale and Encode data\n",
    "minmax = MinMaxScaler(feature_range=(0.01, 1))\n",
    "X_scaled = minmax.fit_transform(X)\n",
    "y_enc = pd.get_dummies(y, columns=[\"7\"], dtype=int).values\n",
    "\n",
    "X_train, X_test, y_train, y_test = train_test_split(X_scaled, y_enc, test_size=0.2, random_state=42)"
   ]
  },
  {
   "cell_type": "markdown",
   "id": "214717a1-6d1d-4164-aa45-f61674562793",
   "metadata": {},
   "source": [
    "### Training 3-Layer Neural Network"
   ]
  },
  {
   "cell_type": "code",
   "execution_count": 12,
   "id": "554920fc-9de4-49d5-ade6-0ffd47251af9",
   "metadata": {},
   "outputs": [
    {
     "name": "stdout",
     "output_type": "stream",
     "text": [
      "Training over!\n"
     ]
    }
   ],
   "source": [
    "nn3 = neuronal_network.NN3Classifier(input_layer = 784 ,hidden_layers=100, output_layer=10, learning_rate = 0.001,epochs = 1000, random_seed=42)\n",
    "output = nn3.fit(X_train,y_train)"
   ]
  },
  {
   "cell_type": "code",
   "execution_count": 14,
   "id": "d72fcffe-2e20-4c70-b8dc-f4d684b3b0c2",
   "metadata": {},
   "outputs": [
    {
     "name": "stdout",
     "output_type": "stream",
     "text": [
      "5\n",
      "5\n"
     ]
    }
   ],
   "source": [
    "# Check Test Sample\n",
    "index= 700\n",
    "\n",
    "Out_0,Out_1 = nn3.predict(X = X_test, w_1=output[0], w_2=output[1])\n",
    "y_predict = Out_1.T\n",
    "\n",
    "print(np.argmax(y_predict[index]))\n",
    "print(np.argmax(y_test[index]))"
   ]
  },
  {
   "cell_type": "markdown",
   "id": "18edf3d6-22f0-4c0e-971e-6427b2d82781",
   "metadata": {},
   "source": [
    "### Accuracy"
   ]
  },
  {
   "cell_type": "code",
   "execution_count": 22,
   "id": "c585b76c-f804-44ba-99a9-d8a69ccaf2ba",
   "metadata": {},
   "outputs": [
    {
     "name": "stdout",
     "output_type": "stream",
     "text": [
      "Performance: 93.05%\n"
     ]
    }
   ],
   "source": [
    "# Calculate Performance of Test Sample\n",
    "\n",
    "print(f\"Performance: {nn3.performance(y_test, y_predict)[0]*100}%\")"
   ]
  }
 ],
 "metadata": {
  "kernelspec": {
   "display_name": "Python 3",
   "language": "python",
   "name": "python3"
  },
  "language_info": {
   "codemirror_mode": {
    "name": "ipython",
    "version": 3
   },
   "file_extension": ".py",
   "mimetype": "text/x-python",
   "name": "python",
   "nbconvert_exporter": "python",
   "pygments_lexer": "ipython3",
   "version": "3.13.1"
  }
 },
 "nbformat": 4,
 "nbformat_minor": 5
}
